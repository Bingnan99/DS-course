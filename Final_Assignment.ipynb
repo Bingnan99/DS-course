{
 "cells": [
  {
   "cell_type": "markdown",
   "metadata": {},
   "source": [
    "<center>\n",
    "    <img src=\"https://cf-courses-data.s3.us.cloud-object-storage.appdomain.cloud/IBMDeveloperSkillsNetwork-DS0105EN-SkillsNetwork/labs/Module2/images/SN_web_lightmode.png\" width=\"300\" alt=\"cognitiveclass.ai logo\">\n",
    "</center>\n"
   ]
  },
  {
   "cell_type": "markdown",
   "metadata": {},
   "source": [
    "#### Add your code below following the instructions given in the course\n"
   ]
  },
  {
   "cell_type": "markdown",
   "metadata": {},
   "source": [
    "## E2. Final assignment"
   ]
  },
  {
   "cell_type": "markdown",
   "metadata": {},
   "source": [
    "#### E3. This is a jupyternotebook for Final assignment in Course IBM Data scientist "
   ]
  },
  {
   "cell_type": "markdown",
   "metadata": {},
   "source": [
    "##### E4. Data science Languages\n",
    "1. Python\n",
    "2. R\n",
    "3. SQL\n",
    "4. Scala/Java/C++/Julia\n",
    "5. Javascript/PHP/Go/Ruby/Visual basic"
   ]
  },
  {
   "cell_type": "markdown",
   "metadata": {},
   "source": [
    "##### E5. data science libraries\n",
    "1. pandas, numpy\n",
    "2. matplotlib, seaborn\n",
    "3. scikit-learn, keras\n",
    "4. tensorflow, pytorch\n",
    "5. apache spark"
   ]
  },
  {
   "cell_type": "markdown",
   "metadata": {},
   "source": [
    "##### E6. \n",
    "| Category | Tool | Primary Use |\n",
    "|----------|------|-------------|\n",
    "| Programming | Jupyter Notebook | Interactive Computing |\n",
    "| Programming | RStudio | R Development |\n",
    "| Data Manipulation | Pandas | Python Data Analysis |\n",
    "| Machine Learning | Scikit-learn | ML Algorithms |\n",
    "| Visualization | Matplotlib | Python Plotting |\n",
    "| Big Data | Apache Spark | Distributed Computing |\n",
    "| Cloud | Google Colab | Free Notebook Environment |\n",
    "| Version Control | Git | Code Management |"
   ]
  },
  {
   "cell_type": "markdown",
   "metadata": {},
   "source": [
    "#### E7. Arithmetic Expressions in Python\n",
    "\n",
    "##### Basic Operators\n",
    "- `+` Addition: `5 + 3 = 8`\n",
    "- `-` Subtraction: `10 - 4 = 6`\n",
    "- `*` Multiplication: `6 * 7 = 42`\n",
    "- `/` Division: `15 / 3 = 5.0`\n",
    "- `**` Exponentiation: `2 ** 3 = 8`"
   ]
  },
  {
   "cell_type": "code",
   "execution_count": 5,
   "metadata": {},
   "outputs": [
    {
     "name": "stdout",
     "output_type": "stream",
     "text": [
      "13\n",
      "30\n"
     ]
    }
   ],
   "source": [
    "# E8.\n",
    "x = 10\n",
    "y = 3\n",
    "print(x + y)   # 13\n",
    "print(x * y)   # 30"
   ]
  },
  {
   "cell_type": "code",
   "execution_count": 11,
   "metadata": {},
   "outputs": [
    {
     "name": "stdout",
     "output_type": "stream",
     "text": [
      "4.0\n"
     ]
    }
   ],
   "source": [
    "# E9. \n",
    "\n",
    "def hour(a):\n",
    "    a = int(a)\n",
    "    res = a / 60\n",
    "    return res\n",
    "\n",
    "print(hour(240))"
   ]
  },
  {
   "cell_type": "markdown",
   "metadata": {},
   "source": [
    "### E10. Data Science Course Objectives\n",
    "##### Key Learning Goals\n",
    "\n",
    "*Objective: Become a proficient data scientist with comprehensive analytical skills*\n",
    "\n",
    "1. **Programming Fundamentals**\n",
    "  - Master Python and R programming\n",
    "  - Understand basic and advanced coding concepts\n",
    "\n",
    "2. **Data Manipulation**\n",
    "  - Learn data cleaning techniques\n",
    "  - Develop skills in data preprocessing\n",
    "\n",
    "3. **Statistical Analysis**\n",
    "  - Apply statistical methods\n",
    "  - Conduct hypothesis testing\n",
    "\n",
    "..."
   ]
  },
  {
   "cell_type": "markdown",
   "metadata": {},
   "source": [
    "##### E11. Author Information\n",
    "\n",
    "**Name:** Bingnan Zheng"
   ]
  },
  {
   "cell_type": "code",
   "execution_count": null,
   "metadata": {},
   "outputs": [],
   "source": []
  }
 ],
 "metadata": {
  "kernelspec": {
   "display_name": "Python 3 (ipykernel)",
   "language": "python",
   "name": "python3"
  },
  "language_info": {
   "codemirror_mode": {
    "name": "ipython",
    "version": 3
   },
   "file_extension": ".py",
   "mimetype": "text/x-python",
   "name": "python",
   "nbconvert_exporter": "python",
   "pygments_lexer": "ipython3",
   "version": "3.11.9"
  }
 },
 "nbformat": 4,
 "nbformat_minor": 4
}
